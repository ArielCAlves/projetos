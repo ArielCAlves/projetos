{
 "cells": [
  {
   "cell_type": "markdown",
   "id": "43ed9750",
   "metadata": {},
   "source": [
    "### Projeto Game Sales\n",
    "#### Link do Dataset: https://www.kaggle.com/datasets/rush4ratio/video-game-sales-with-ratings\n",
    "#### Objetivo: construir um painel de uma página com as métricas mais relevantes.\n",
    "#### Dicionário de Dados:\n",
    "* Name: Name of the game\n",
    "* Platform: Console on which the game is running\n",
    "* Year_of_Release: Year of the game released\n",
    "* Genre: Game's category\n",
    "* Publisher: Publisher\n",
    "* NA_Sales: Game sales in North America (in millions of units)\n",
    "* EU_Sales: Game sales in the European Union (in millions of units)\n",
    "* JP_Sales: Game sales in Japan (in millions of units)\n",
    "* Other_Sales: Game sales in the rest of the world, i.e. Africa, Asia excluding Japan, Australia, Europe excluding the E.U. and South America (in millions of units)\n",
    "* Global_Sales: Total sales in the world (in millions of units)\n",
    "* Critic_Score: Aggregate score compiled by Metacritic staff\n",
    "* Criti_Count: The number of critics used in coming up with the Criticscore\n",
    "* User_Score: Score by Metacritic's subscribers\n",
    "* User_Count: Number of users who gave the userscore\n",
    "* Developer: Party responsible for creating the game\n",
    "* Rating: The ESRB ratings"
   ]
  },
  {
   "cell_type": "markdown",
   "id": "03b80040",
   "metadata": {},
   "source": [
    "#### Observação quanto aos ratings encontrados no dataset que estão no link da ESRB:\n",
    "* E: Everyone\n",
    "* E10+: Everyone 10+\n",
    "* T: Teen (13+)\n",
    "* M: Mature (17+)\n",
    "* AO: Adults Only (18+)\n",
    "* RP: Rating Pending\n",
    "* K-A: renamed \"Everyone\" in 1998 (https://en.wikipedia.org/wiki/Entertainment_Software_Rating_Board)\n",
    "\n",
    "#### Referência: https://www.esrb.org/ratings-guide/"
   ]
  },
  {
   "cell_type": "markdown",
   "id": "8c094ba6",
   "metadata": {},
   "source": [
    "### 1) Bibliotecas:"
   ]
  },
  {
   "cell_type": "code",
   "execution_count": 1,
   "id": "798133a0",
   "metadata": {},
   "outputs": [],
   "source": [
    "import pandas as pd\n",
    "import matplotlib.pyplot as plt\n",
    "import seaborn as sns\n",
    "import numpy as np"
   ]
  },
  {
   "cell_type": "markdown",
   "id": "08c12d40",
   "metadata": {},
   "source": [
    "### 2) Exploração de Dados:"
   ]
  },
  {
   "cell_type": "code",
   "execution_count": 2,
   "id": "df6d60b8",
   "metadata": {},
   "outputs": [],
   "source": [
    "# Importação do dataset\n",
    "df = pd.read_csv(f'./data/Video_Games_Sales_as_at_22_Dec_2016.csv')"
   ]
  },
  {
   "cell_type": "code",
   "execution_count": 3,
   "id": "46997de9",
   "metadata": {
    "scrolled": true
   },
   "outputs": [
    {
     "data": {
      "text/html": [
       "<div>\n",
       "<style scoped>\n",
       "    .dataframe tbody tr th:only-of-type {\n",
       "        vertical-align: middle;\n",
       "    }\n",
       "\n",
       "    .dataframe tbody tr th {\n",
       "        vertical-align: top;\n",
       "    }\n",
       "\n",
       "    .dataframe thead th {\n",
       "        text-align: right;\n",
       "    }\n",
       "</style>\n",
       "<table border=\"1\" class=\"dataframe\">\n",
       "  <thead>\n",
       "    <tr style=\"text-align: right;\">\n",
       "      <th></th>\n",
       "      <th>Name</th>\n",
       "      <th>Platform</th>\n",
       "      <th>Year_of_Release</th>\n",
       "      <th>Genre</th>\n",
       "      <th>Publisher</th>\n",
       "      <th>NA_Sales</th>\n",
       "      <th>EU_Sales</th>\n",
       "      <th>JP_Sales</th>\n",
       "      <th>Other_Sales</th>\n",
       "      <th>Global_Sales</th>\n",
       "      <th>Critic_Score</th>\n",
       "      <th>Critic_Count</th>\n",
       "      <th>User_Score</th>\n",
       "      <th>User_Count</th>\n",
       "      <th>Developer</th>\n",
       "      <th>Rating</th>\n",
       "    </tr>\n",
       "  </thead>\n",
       "  <tbody>\n",
       "    <tr>\n",
       "      <th>0</th>\n",
       "      <td>Wii Sports</td>\n",
       "      <td>Wii</td>\n",
       "      <td>2006.0</td>\n",
       "      <td>Sports</td>\n",
       "      <td>Nintendo</td>\n",
       "      <td>41.36</td>\n",
       "      <td>28.96</td>\n",
       "      <td>3.77</td>\n",
       "      <td>8.45</td>\n",
       "      <td>82.53</td>\n",
       "      <td>76.0</td>\n",
       "      <td>51.0</td>\n",
       "      <td>8</td>\n",
       "      <td>322.0</td>\n",
       "      <td>Nintendo</td>\n",
       "      <td>E</td>\n",
       "    </tr>\n",
       "    <tr>\n",
       "      <th>1</th>\n",
       "      <td>Super Mario Bros.</td>\n",
       "      <td>NES</td>\n",
       "      <td>1985.0</td>\n",
       "      <td>Platform</td>\n",
       "      <td>Nintendo</td>\n",
       "      <td>29.08</td>\n",
       "      <td>3.58</td>\n",
       "      <td>6.81</td>\n",
       "      <td>0.77</td>\n",
       "      <td>40.24</td>\n",
       "      <td>NaN</td>\n",
       "      <td>NaN</td>\n",
       "      <td>NaN</td>\n",
       "      <td>NaN</td>\n",
       "      <td>NaN</td>\n",
       "      <td>NaN</td>\n",
       "    </tr>\n",
       "    <tr>\n",
       "      <th>2</th>\n",
       "      <td>Mario Kart Wii</td>\n",
       "      <td>Wii</td>\n",
       "      <td>2008.0</td>\n",
       "      <td>Racing</td>\n",
       "      <td>Nintendo</td>\n",
       "      <td>15.68</td>\n",
       "      <td>12.76</td>\n",
       "      <td>3.79</td>\n",
       "      <td>3.29</td>\n",
       "      <td>35.52</td>\n",
       "      <td>82.0</td>\n",
       "      <td>73.0</td>\n",
       "      <td>8.3</td>\n",
       "      <td>709.0</td>\n",
       "      <td>Nintendo</td>\n",
       "      <td>E</td>\n",
       "    </tr>\n",
       "    <tr>\n",
       "      <th>3</th>\n",
       "      <td>Wii Sports Resort</td>\n",
       "      <td>Wii</td>\n",
       "      <td>2009.0</td>\n",
       "      <td>Sports</td>\n",
       "      <td>Nintendo</td>\n",
       "      <td>15.61</td>\n",
       "      <td>10.93</td>\n",
       "      <td>3.28</td>\n",
       "      <td>2.95</td>\n",
       "      <td>32.77</td>\n",
       "      <td>80.0</td>\n",
       "      <td>73.0</td>\n",
       "      <td>8</td>\n",
       "      <td>192.0</td>\n",
       "      <td>Nintendo</td>\n",
       "      <td>E</td>\n",
       "    </tr>\n",
       "    <tr>\n",
       "      <th>4</th>\n",
       "      <td>Pokemon Red/Pokemon Blue</td>\n",
       "      <td>GB</td>\n",
       "      <td>1996.0</td>\n",
       "      <td>Role-Playing</td>\n",
       "      <td>Nintendo</td>\n",
       "      <td>11.27</td>\n",
       "      <td>8.89</td>\n",
       "      <td>10.22</td>\n",
       "      <td>1.00</td>\n",
       "      <td>31.37</td>\n",
       "      <td>NaN</td>\n",
       "      <td>NaN</td>\n",
       "      <td>NaN</td>\n",
       "      <td>NaN</td>\n",
       "      <td>NaN</td>\n",
       "      <td>NaN</td>\n",
       "    </tr>\n",
       "  </tbody>\n",
       "</table>\n",
       "</div>"
      ],
      "text/plain": [
       "                       Name Platform  Year_of_Release         Genre Publisher  \\\n",
       "0                Wii Sports      Wii           2006.0        Sports  Nintendo   \n",
       "1         Super Mario Bros.      NES           1985.0      Platform  Nintendo   \n",
       "2            Mario Kart Wii      Wii           2008.0        Racing  Nintendo   \n",
       "3         Wii Sports Resort      Wii           2009.0        Sports  Nintendo   \n",
       "4  Pokemon Red/Pokemon Blue       GB           1996.0  Role-Playing  Nintendo   \n",
       "\n",
       "   NA_Sales  EU_Sales  JP_Sales  Other_Sales  Global_Sales  Critic_Score  \\\n",
       "0     41.36     28.96      3.77         8.45         82.53          76.0   \n",
       "1     29.08      3.58      6.81         0.77         40.24           NaN   \n",
       "2     15.68     12.76      3.79         3.29         35.52          82.0   \n",
       "3     15.61     10.93      3.28         2.95         32.77          80.0   \n",
       "4     11.27      8.89     10.22         1.00         31.37           NaN   \n",
       "\n",
       "   Critic_Count User_Score  User_Count Developer Rating  \n",
       "0          51.0          8       322.0  Nintendo      E  \n",
       "1           NaN        NaN         NaN       NaN    NaN  \n",
       "2          73.0        8.3       709.0  Nintendo      E  \n",
       "3          73.0          8       192.0  Nintendo      E  \n",
       "4           NaN        NaN         NaN       NaN    NaN  "
      ]
     },
     "execution_count": 3,
     "metadata": {},
     "output_type": "execute_result"
    }
   ],
   "source": [
    "# 5 primeiras linhas\n",
    "# É possível observar que Plataform e Developer representam a mesma informação, vou remover a que tem menos linhas\n",
    "df.head()"
   ]
  },
  {
   "cell_type": "code",
   "execution_count": 4,
   "id": "57587c63",
   "metadata": {
    "scrolled": true
   },
   "outputs": [
    {
     "data": {
      "text/plain": [
       "(16719, 16)"
      ]
     },
     "execution_count": 4,
     "metadata": {},
     "output_type": "execute_result"
    }
   ],
   "source": [
    "# Linhas e Colunas\n",
    "df.shape"
   ]
  },
  {
   "cell_type": "code",
   "execution_count": 5,
   "id": "ca3875a3",
   "metadata": {},
   "outputs": [
    {
     "name": "stdout",
     "output_type": "stream",
     "text": [
      "<class 'pandas.core.frame.DataFrame'>\n",
      "RangeIndex: 16719 entries, 0 to 16718\n",
      "Data columns (total 16 columns):\n",
      " #   Column           Non-Null Count  Dtype  \n",
      "---  ------           --------------  -----  \n",
      " 0   Name             16717 non-null  object \n",
      " 1   Platform         16719 non-null  object \n",
      " 2   Year_of_Release  16450 non-null  float64\n",
      " 3   Genre            16717 non-null  object \n",
      " 4   Publisher        16665 non-null  object \n",
      " 5   NA_Sales         16719 non-null  float64\n",
      " 6   EU_Sales         16719 non-null  float64\n",
      " 7   JP_Sales         16719 non-null  float64\n",
      " 8   Other_Sales      16719 non-null  float64\n",
      " 9   Global_Sales     16719 non-null  float64\n",
      " 10  Critic_Score     8137 non-null   float64\n",
      " 11  Critic_Count     8137 non-null   float64\n",
      " 12  User_Score       10015 non-null  object \n",
      " 13  User_Count       7590 non-null   float64\n",
      " 14  Developer        10096 non-null  object \n",
      " 15  Rating           9950 non-null   object \n",
      "dtypes: float64(9), object(7)\n",
      "memory usage: 2.0+ MB\n"
     ]
    }
   ],
   "source": [
    "# Estrutura de cada coluna e quantidade de valores faltantes em comparação com a quantidade de linhas (16719)\n",
    "df.info()"
   ]
  },
  {
   "cell_type": "markdown",
   "id": "ba0dc549",
   "metadata": {},
   "source": [
    "##### Year_of_Release"
   ]
  },
  {
   "cell_type": "code",
   "execution_count": 6,
   "id": "cbd71880",
   "metadata": {},
   "outputs": [],
   "source": [
    "# Verificando quantos valores nulos têm e a forma como estão distribuídos para escolher o critério de substituição\n",
    "\n",
    "# df['Year_of_Release'].isnull().sum()\n",
    "# df['Year_of_Release'].describe()\n",
    "\n",
    "df['Year_of_Release'].fillna(df['Year_of_Release'].median(),inplace=True)\n",
    "df['Year_of_Release'] = df['Year_of_Release'].astype(np.int64, copy=False)"
   ]
  },
  {
   "cell_type": "code",
   "execution_count": 7,
   "id": "ec45712c",
   "metadata": {
    "scrolled": true
   },
   "outputs": [
    {
     "name": "stdout",
     "output_type": "stream",
     "text": [
      "<class 'pandas.core.frame.DataFrame'>\n",
      "RangeIndex: 16719 entries, 0 to 16718\n",
      "Data columns (total 16 columns):\n",
      " #   Column           Non-Null Count  Dtype  \n",
      "---  ------           --------------  -----  \n",
      " 0   Name             16717 non-null  object \n",
      " 1   Platform         16719 non-null  object \n",
      " 2   Year_of_Release  16719 non-null  int64  \n",
      " 3   Genre            16717 non-null  object \n",
      " 4   Publisher        16665 non-null  object \n",
      " 5   NA_Sales         16719 non-null  float64\n",
      " 6   EU_Sales         16719 non-null  float64\n",
      " 7   JP_Sales         16719 non-null  float64\n",
      " 8   Other_Sales      16719 non-null  float64\n",
      " 9   Global_Sales     16719 non-null  float64\n",
      " 10  Critic_Score     8137 non-null   float64\n",
      " 11  Critic_Count     8137 non-null   float64\n",
      " 12  User_Score       10015 non-null  object \n",
      " 13  User_Count       7590 non-null   float64\n",
      " 14  Developer        10096 non-null  object \n",
      " 15  Rating           9950 non-null   object \n",
      "dtypes: float64(8), int64(1), object(7)\n",
      "memory usage: 2.0+ MB\n"
     ]
    }
   ],
   "source": [
    "df.info()"
   ]
  },
  {
   "cell_type": "code",
   "execution_count": null,
   "id": "e0a94a91",
   "metadata": {},
   "outputs": [],
   "source": []
  },
  {
   "cell_type": "markdown",
   "id": "19bb3761",
   "metadata": {},
   "source": [
    "##### User_Score"
   ]
  },
  {
   "cell_type": "code",
   "execution_count": 8,
   "id": "58667aeb",
   "metadata": {
    "scrolled": true
   },
   "outputs": [
    {
     "data": {
      "text/plain": [
       "count     10015\n",
       "unique       96\n",
       "top         tbd\n",
       "freq       2425\n",
       "Name: User_Score, dtype: object"
      ]
     },
     "execution_count": 8,
     "metadata": {},
     "output_type": "execute_result"
    }
   ],
   "source": [
    "df['User_Score'].describe()"
   ]
  },
  {
   "cell_type": "code",
   "execution_count": 9,
   "id": "6f24708b",
   "metadata": {},
   "outputs": [],
   "source": [
    "df = df.drop(df[df['User_Score'] == 'tbd'].index)\n",
    "df['User_Score'] = df['User_Score'].astype(float)\n",
    "df['User_Score'].fillna(df['User_Score'].median(),inplace=True)"
   ]
  },
  {
   "cell_type": "code",
   "execution_count": 10,
   "id": "d78b271b",
   "metadata": {},
   "outputs": [
    {
     "data": {
      "text/plain": [
       "count    14294.000000\n",
       "mean         7.300902\n",
       "std          1.108911\n",
       "min          0.000000\n",
       "25%          7.400000\n",
       "50%          7.500000\n",
       "75%          7.600000\n",
       "max          9.700000\n",
       "Name: User_Score, dtype: float64"
      ]
     },
     "execution_count": 10,
     "metadata": {},
     "output_type": "execute_result"
    }
   ],
   "source": [
    "df['User_Score'].describe()"
   ]
  },
  {
   "cell_type": "code",
   "execution_count": null,
   "id": "c323bed3",
   "metadata": {},
   "outputs": [],
   "source": []
  },
  {
   "cell_type": "markdown",
   "id": "04bbc051",
   "metadata": {},
   "source": [
    "##### Critic_Score"
   ]
  },
  {
   "cell_type": "code",
   "execution_count": 11,
   "id": "6f8606c8",
   "metadata": {},
   "outputs": [],
   "source": [
    "df['Critic_Score'].fillna(df['Critic_Score'].median(),inplace=True)"
   ]
  },
  {
   "cell_type": "code",
   "execution_count": 12,
   "id": "fe7e703c",
   "metadata": {},
   "outputs": [
    {
     "data": {
      "text/plain": [
       "count    14294.000000\n",
       "mean        71.128306\n",
       "std          9.794826\n",
       "min         13.000000\n",
       "25%         72.000000\n",
       "50%         72.000000\n",
       "75%         72.000000\n",
       "max         98.000000\n",
       "Name: Critic_Score, dtype: float64"
      ]
     },
     "execution_count": 12,
     "metadata": {},
     "output_type": "execute_result"
    }
   ],
   "source": [
    "df['Critic_Score'].describe()"
   ]
  },
  {
   "cell_type": "markdown",
   "id": "7546a313",
   "metadata": {},
   "source": [
    "##### Rating"
   ]
  },
  {
   "cell_type": "code",
   "execution_count": 13,
   "id": "37054644",
   "metadata": {
    "scrolled": true
   },
   "outputs": [
    {
     "name": "stdout",
     "output_type": "stream",
     "text": [
      "Quantidade de valores nulos: 6719\n",
      "Quantidade de ratings para cada classificação:\n",
      "T       2581\n",
      "E       2415\n",
      "M       1521\n",
      "E10+    1050\n",
      "K-A        3\n",
      "RP         3\n",
      "AO         1\n",
      "EC         1\n",
      "Name: Rating, dtype: int64\n"
     ]
    }
   ],
   "source": [
    "print(f'Quantidade de valores nulos: {df[\"Rating\"].isnull().sum()}')\n",
    "print(f'Quantidade de ratings para cada classificação:\\n{df[\"Rating\"].value_counts()}')"
   ]
  },
  {
   "cell_type": "code",
   "execution_count": 14,
   "id": "df7bc0b0",
   "metadata": {},
   "outputs": [],
   "source": [
    "# K-A passou a ser E a partir de 1998 (link da explicação no início)\n",
    "\n",
    "df.loc[df['Rating'] == 'K-A','Rating'] = 'E'"
   ]
  },
  {
   "cell_type": "code",
   "execution_count": 15,
   "id": "7d3f877b",
   "metadata": {},
   "outputs": [
    {
     "data": {
      "text/plain": [
       "T       2581\n",
       "E       2418\n",
       "M       1521\n",
       "E10+    1050\n",
       "RP         3\n",
       "AO         1\n",
       "EC         1\n",
       "Name: Rating, dtype: int64"
      ]
     },
     "execution_count": 15,
     "metadata": {},
     "output_type": "execute_result"
    }
   ],
   "source": [
    "# Vou remover os EC, RP e AO por aparecerem poucas vezes\n",
    "\n",
    "df['Rating'].value_counts()"
   ]
  },
  {
   "cell_type": "code",
   "execution_count": null,
   "id": "e89ee0d8",
   "metadata": {},
   "outputs": [],
   "source": []
  },
  {
   "cell_type": "code",
   "execution_count": 16,
   "id": "4ee5f4e8",
   "metadata": {},
   "outputs": [],
   "source": [
    "# Remoção de algumas colunas que não vou utilizar neste case\n",
    "\n",
    "df.drop(['User_Count','Developer','Critic_Count'],axis=1,inplace=True)"
   ]
  },
  {
   "cell_type": "code",
   "execution_count": 17,
   "id": "e1abc99b",
   "metadata": {},
   "outputs": [
    {
     "data": {
      "text/html": [
       "<div>\n",
       "<style scoped>\n",
       "    .dataframe tbody tr th:only-of-type {\n",
       "        vertical-align: middle;\n",
       "    }\n",
       "\n",
       "    .dataframe tbody tr th {\n",
       "        vertical-align: top;\n",
       "    }\n",
       "\n",
       "    .dataframe thead th {\n",
       "        text-align: right;\n",
       "    }\n",
       "</style>\n",
       "<table border=\"1\" class=\"dataframe\">\n",
       "  <thead>\n",
       "    <tr style=\"text-align: right;\">\n",
       "      <th></th>\n",
       "      <th>Name</th>\n",
       "      <th>Platform</th>\n",
       "      <th>Year_of_Release</th>\n",
       "      <th>Genre</th>\n",
       "      <th>Publisher</th>\n",
       "      <th>NA_Sales</th>\n",
       "      <th>EU_Sales</th>\n",
       "      <th>JP_Sales</th>\n",
       "      <th>Other_Sales</th>\n",
       "      <th>Global_Sales</th>\n",
       "      <th>Critic_Score</th>\n",
       "      <th>User_Score</th>\n",
       "      <th>Rating</th>\n",
       "    </tr>\n",
       "  </thead>\n",
       "  <tbody>\n",
       "    <tr>\n",
       "      <th>0</th>\n",
       "      <td>Wii Sports</td>\n",
       "      <td>Wii</td>\n",
       "      <td>2006</td>\n",
       "      <td>Sports</td>\n",
       "      <td>Nintendo</td>\n",
       "      <td>41.36</td>\n",
       "      <td>28.96</td>\n",
       "      <td>3.77</td>\n",
       "      <td>8.45</td>\n",
       "      <td>82.53</td>\n",
       "      <td>76.0</td>\n",
       "      <td>8.0</td>\n",
       "      <td>E</td>\n",
       "    </tr>\n",
       "    <tr>\n",
       "      <th>1</th>\n",
       "      <td>Super Mario Bros.</td>\n",
       "      <td>NES</td>\n",
       "      <td>1985</td>\n",
       "      <td>Platform</td>\n",
       "      <td>Nintendo</td>\n",
       "      <td>29.08</td>\n",
       "      <td>3.58</td>\n",
       "      <td>6.81</td>\n",
       "      <td>0.77</td>\n",
       "      <td>40.24</td>\n",
       "      <td>72.0</td>\n",
       "      <td>7.5</td>\n",
       "      <td>NaN</td>\n",
       "    </tr>\n",
       "    <tr>\n",
       "      <th>2</th>\n",
       "      <td>Mario Kart Wii</td>\n",
       "      <td>Wii</td>\n",
       "      <td>2008</td>\n",
       "      <td>Racing</td>\n",
       "      <td>Nintendo</td>\n",
       "      <td>15.68</td>\n",
       "      <td>12.76</td>\n",
       "      <td>3.79</td>\n",
       "      <td>3.29</td>\n",
       "      <td>35.52</td>\n",
       "      <td>82.0</td>\n",
       "      <td>8.3</td>\n",
       "      <td>E</td>\n",
       "    </tr>\n",
       "    <tr>\n",
       "      <th>3</th>\n",
       "      <td>Wii Sports Resort</td>\n",
       "      <td>Wii</td>\n",
       "      <td>2009</td>\n",
       "      <td>Sports</td>\n",
       "      <td>Nintendo</td>\n",
       "      <td>15.61</td>\n",
       "      <td>10.93</td>\n",
       "      <td>3.28</td>\n",
       "      <td>2.95</td>\n",
       "      <td>32.77</td>\n",
       "      <td>80.0</td>\n",
       "      <td>8.0</td>\n",
       "      <td>E</td>\n",
       "    </tr>\n",
       "    <tr>\n",
       "      <th>4</th>\n",
       "      <td>Pokemon Red/Pokemon Blue</td>\n",
       "      <td>GB</td>\n",
       "      <td>1996</td>\n",
       "      <td>Role-Playing</td>\n",
       "      <td>Nintendo</td>\n",
       "      <td>11.27</td>\n",
       "      <td>8.89</td>\n",
       "      <td>10.22</td>\n",
       "      <td>1.00</td>\n",
       "      <td>31.37</td>\n",
       "      <td>72.0</td>\n",
       "      <td>7.5</td>\n",
       "      <td>NaN</td>\n",
       "    </tr>\n",
       "  </tbody>\n",
       "</table>\n",
       "</div>"
      ],
      "text/plain": [
       "                       Name Platform  Year_of_Release         Genre Publisher  \\\n",
       "0                Wii Sports      Wii             2006        Sports  Nintendo   \n",
       "1         Super Mario Bros.      NES             1985      Platform  Nintendo   \n",
       "2            Mario Kart Wii      Wii             2008        Racing  Nintendo   \n",
       "3         Wii Sports Resort      Wii             2009        Sports  Nintendo   \n",
       "4  Pokemon Red/Pokemon Blue       GB             1996  Role-Playing  Nintendo   \n",
       "\n",
       "   NA_Sales  EU_Sales  JP_Sales  Other_Sales  Global_Sales  Critic_Score  \\\n",
       "0     41.36     28.96      3.77         8.45         82.53          76.0   \n",
       "1     29.08      3.58      6.81         0.77         40.24          72.0   \n",
       "2     15.68     12.76      3.79         3.29         35.52          82.0   \n",
       "3     15.61     10.93      3.28         2.95         32.77          80.0   \n",
       "4     11.27      8.89     10.22         1.00         31.37          72.0   \n",
       "\n",
       "   User_Score Rating  \n",
       "0         8.0      E  \n",
       "1         7.5    NaN  \n",
       "2         8.3      E  \n",
       "3         8.0      E  \n",
       "4         7.5    NaN  "
      ]
     },
     "execution_count": 17,
     "metadata": {},
     "output_type": "execute_result"
    }
   ],
   "source": [
    "df.head()"
   ]
  },
  {
   "cell_type": "code",
   "execution_count": null,
   "id": "cf4ea30f",
   "metadata": {},
   "outputs": [],
   "source": []
  },
  {
   "cell_type": "markdown",
   "id": "10a5ce19",
   "metadata": {},
   "source": [
    "##### Correlação"
   ]
  },
  {
   "cell_type": "code",
   "execution_count": 18,
   "id": "e8b02f41",
   "metadata": {
    "scrolled": true
   },
   "outputs": [
    {
     "data": {
      "image/png": "[encoded data removed]",
      "text/plain": [
       "<Figure size 432x288 with 2 Axes>"
      ]
     },
     "metadata": {
      "needs_background": "light"
     },
     "output_type": "display_data"
    }
   ],
   "source": [
    "# Preciso segmentar o dataset para evitar colinearidade\n",
    "\n",
    "corr_df = df.corr()\n",
    "\n",
    "plt.figure(figsize=(6, 4))\n",
    "sns.heatmap(corr_df, annot=True)\n",
    "plt.show()"
   ]
  },
  {
   "cell_type": "code",
   "execution_count": null,
   "id": "eb047741",
   "metadata": {},
   "outputs": [],
   "source": []
  },
  {
   "cell_type": "markdown",
   "id": "69e81df5",
   "metadata": {},
   "source": [
    "### 3) Análise Segmentada\n",
    "* Resolvi focar nas 3 principais regiões"
   ]
  },
  {
   "cell_type": "markdown",
   "id": "dd2081bb",
   "metadata": {},
   "source": [
    "##### 3.1) NA_Sales"
   ]
  },
  {
   "cell_type": "code",
   "execution_count": 19,
   "id": "a2498d72",
   "metadata": {},
   "outputs": [
    {
     "name": "stdout",
     "output_type": "stream",
     "text": [
      "Top 10 Plataformas(América do Norte):\n",
      "\n",
      "          NA_Sales\n",
      "Platform          \n",
      "X360        592.50\n",
      "PS2         553.91\n",
      "Wii         421.90\n",
      "PS3         387.16\n",
      "PS          328.92\n",
      "DS          279.93\n",
      "XB          174.20\n",
      "GBA         151.22\n",
      "N64         139.02\n",
      "NES         125.94\n"
     ]
    }
   ],
   "source": [
    "print('Top 10 Plataformas(América do Norte):\\n')\n",
    "print(df[['Platform', 'NA_Sales']].groupby('Platform').sum().sort_values(by='NA_Sales', ascending= False).head(10))"
   ]
  },
  {
   "cell_type": "code",
   "execution_count": 20,
   "id": "41d36d5c",
   "metadata": {},
   "outputs": [
    {
     "name": "stdout",
     "output_type": "stream",
     "text": [
      "Top 10 Gêneros de Games(América do Norte):\n",
      "\n",
      "              NA_Sales\n",
      "Genre                 \n",
      "Action          833.09\n",
      "Sports          628.66\n",
      "Shooter         586.66\n",
      "Platform        426.98\n",
      "Misc            339.51\n",
      "Racing          335.37\n",
      "Role-Playing    328.56\n",
      "Fighting        219.84\n",
      "Simulation      143.11\n",
      "Puzzle          102.40\n"
     ]
    }
   ],
   "source": [
    "print('Top 10 Gêneros de Games(América do Norte):\\n')\n",
    "print(df[['Genre', 'NA_Sales']].groupby('Genre').sum().sort_values(by='NA_Sales', ascending= False).head(10))"
   ]
  },
  {
   "cell_type": "code",
   "execution_count": 21,
   "id": "a38ec3b9",
   "metadata": {},
   "outputs": [
    {
     "name": "stdout",
     "output_type": "stream",
     "text": [
      "Top 10 Fabricantes(América do Norte):\n",
      "\n",
      "                             NA_Sales\n",
      "Publisher                            \n",
      "Nintendo                       813.86\n",
      "Electronic Arts                578.08\n",
      "Activision                     398.49\n",
      "Sony Computer Entertainment    260.49\n",
      "Ubisoft                        214.72\n",
      "Take-Two Interactive           213.53\n",
      "THQ                            167.46\n",
      "Microsoft Game Studios         156.64\n",
      "Sega                           105.83\n",
      "Atari                          104.87\n"
     ]
    }
   ],
   "source": [
    "print('Top 10 Fabricantes(América do Norte):\\n')\n",
    "print(df[['Publisher', 'NA_Sales']].groupby('Publisher').sum().sort_values(by='NA_Sales', ascending= False).head(10))"
   ]
  },
  {
   "cell_type": "code",
   "execution_count": 22,
   "id": "3cff4631",
   "metadata": {},
   "outputs": [
    {
     "name": "stdout",
     "output_type": "stream",
     "text": [
      "Classificações mais consumidas(América do Norte):\n",
      "\n",
      "        NA_Sales\n",
      "Rating          \n",
      "E        1071.95\n",
      "M         745.49\n",
      "T         725.30\n",
      "E10+      312.76\n",
      "AO          1.26\n",
      "EC          0.12\n",
      "RP          0.00\n"
     ]
    }
   ],
   "source": [
    "print('Classificações mais consumidas(América do Norte):\\n')\n",
    "print(df[['Rating', 'NA_Sales']].groupby('Rating').sum().sort_values(by='NA_Sales', ascending= False))"
   ]
  },
  {
   "cell_type": "code",
   "execution_count": 23,
   "id": "be5f3f2d",
   "metadata": {},
   "outputs": [
    {
     "data": {
      "image/png": "[encoded data removed]",
      "text/plain": [
       "<Figure size 432x288 with 1 Axes>"
      ]
     },
     "metadata": {
      "needs_background": "light"
     },
     "output_type": "display_data"
    }
   ],
   "source": [
    "x = df['Year_of_Release']\n",
    "y = df['NA_Sales']\n",
    "\n",
    "plt.bar(x,y,color=(0.2, 0.4, 0.6, 0.6))\n",
    "\n",
    "plt.style.use('ggplot')\n",
    "width = 0.4\n",
    "\n",
    "plt.xlabel('Ano')\n",
    "plt.ylabel('Quantidade (milhões)')\n",
    "\n",
    "\n",
    "plt.title('Quantidade de Vendas na América do Norte')\n",
    "\n",
    "plt.show()"
   ]
  },
  {
   "cell_type": "code",
   "execution_count": null,
   "id": "2c0cca71",
   "metadata": {},
   "outputs": [],
   "source": []
  },
  {
   "cell_type": "markdown",
   "id": "bbba159e",
   "metadata": {},
   "source": [
    "##### 3.2) EU_Sales"
   ]
  },
  {
   "cell_type": "code",
   "execution_count": 24,
   "id": "c511db2b",
   "metadata": {},
   "outputs": [
    {
     "name": "stdout",
     "output_type": "stream",
     "text": [
      "Top 10 Plataformas(Europa):\n",
      "\n",
      "          EU_Sales\n",
      "Platform          \n",
      "PS3         327.96\n",
      "PS2         316.99\n",
      "X360        269.18\n",
      "Wii         245.05\n",
      "PS          208.49\n",
      "DS          157.69\n",
      "PC          141.36\n",
      "PS4         141.09\n",
      "PSP          63.42\n",
      "GBA          61.46\n"
     ]
    }
   ],
   "source": [
    "print('Top 10 Plataformas(Europa):\\n')\n",
    "print(df[['Platform', 'EU_Sales']].groupby('Platform').sum().sort_values(by='EU_Sales', ascending= False).head(10))"
   ]
  },
  {
   "cell_type": "code",
   "execution_count": 25,
   "id": "97e9c306",
   "metadata": {},
   "outputs": [
    {
     "name": "stdout",
     "output_type": "stream",
     "text": [
      "Top 10 Gêneros de Games(Europa):\n",
      "\n",
      "              EU_Sales\n",
      "Genre                 \n",
      "Action          502.54\n",
      "Sports          357.48\n",
      "Shooter         315.74\n",
      "Racing          228.58\n",
      "Platform        192.91\n",
      "Misc            191.30\n",
      "Role-Playing    188.16\n",
      "Simulation      101.99\n",
      "Fighting         98.65\n",
      "Adventure        55.40\n"
     ]
    }
   ],
   "source": [
    "print('Top 10 Gêneros de Games(Europa):\\n')\n",
    "print(df[['Genre', 'EU_Sales']].groupby('Genre').sum().sort_values(by='EU_Sales', ascending= False).head(10))"
   ]
  },
  {
   "cell_type": "code",
   "execution_count": 26,
   "id": "66716f8c",
   "metadata": {},
   "outputs": [
    {
     "name": "stdout",
     "output_type": "stream",
     "text": [
      "Top 10 Fabricantes(Europa):\n",
      "\n",
      "                              EU_Sales\n",
      "Publisher                             \n",
      "Nintendo                        416.20\n",
      "Electronic Arts                 365.14\n",
      "Activision                      206.71\n",
      "Sony Computer Entertainment     181.21\n",
      "Ubisoft                         147.55\n",
      "Take-Two Interactive            116.91\n",
      "THQ                              80.13\n",
      "Sega                             79.51\n",
      "Microsoft Game Studios           68.32\n",
      "Konami Digital Entertainment     65.14\n"
     ]
    }
   ],
   "source": [
    "print('Top 10 Fabricantes(Europa):\\n')\n",
    "print(df[['Publisher', 'EU_Sales']].groupby('Publisher').sum().sort_values(by='EU_Sales', ascending= False).head(10))"
   ]
  },
  {
   "cell_type": "code",
   "execution_count": 27,
   "id": "075ebda0",
   "metadata": {},
   "outputs": [
    {
     "name": "stdout",
     "output_type": "stream",
     "text": [
      "Classificações mais consumidas(Europa):\n",
      "\n",
      "        EU_Sales\n",
      "Rating          \n",
      "E         635.51\n",
      "M         482.42\n",
      "T         413.79\n",
      "E10+      174.30\n",
      "AO          0.61\n",
      "EC          0.09\n",
      "RP          0.08\n"
     ]
    }
   ],
   "source": [
    "print('Classificações mais consumidas(Europa):\\n')\n",
    "print(df[['Rating', 'EU_Sales']].groupby('Rating').sum().sort_values(by='EU_Sales', ascending= False))"
   ]
  },
  {
   "cell_type": "code",
   "execution_count": 28,
   "id": "59974dd1",
   "metadata": {
    "scrolled": true
   },
   "outputs": [
    {
     "data": {
      "image/png": "[encoded data removed]",
      "text/plain": [
       "<Figure size 432x288 with 1 Axes>"
      ]
     },
     "metadata": {},
     "output_type": "display_data"
    }
   ],
   "source": [
    "x = df['Year_of_Release']\n",
    "y = df['EU_Sales']\n",
    "\n",
    "plt.bar(x,y,color=(0.2, 0.4, 0.6, 0.6))\n",
    "\n",
    "plt.style.use('ggplot')\n",
    "width = 0.4\n",
    "\n",
    "plt.xlabel('Ano')\n",
    "plt.ylabel('Quantidade (milhões)')\n",
    "\n",
    "\n",
    "plt.title('Quantidade de Vendas na Europa')\n",
    "\n",
    "plt.show()"
   ]
  },
  {
   "cell_type": "code",
   "execution_count": null,
   "id": "cfa19ffa",
   "metadata": {},
   "outputs": [],
   "source": []
  },
  {
   "cell_type": "markdown",
   "id": "6323ddba",
   "metadata": {},
   "source": [
    "##### 3.3) JP_Sales"
   ]
  },
  {
   "cell_type": "code",
   "execution_count": 29,
   "id": "e11cc1be",
   "metadata": {},
   "outputs": [
    {
     "name": "stdout",
     "output_type": "stream",
     "text": [
      "Top 10 Plataformas(Japão):\n",
      "\n",
      "          JP_Sales\n",
      "Platform          \n",
      "DS          172.09\n",
      "PS          139.82\n",
      "PS2         138.41\n",
      "SNES        116.55\n",
      "3DS         100.44\n",
      "NES          98.65\n",
      "GB           85.12\n",
      "PS3          79.82\n",
      "PSP          76.46\n",
      "Wii          68.90\n"
     ]
    }
   ],
   "source": [
    "print('Top 10 Plataformas(Japão):\\n')\n",
    "print(df[['Platform', 'JP_Sales']].groupby('Platform').sum().sort_values(by='JP_Sales', ascending= False).head(10))"
   ]
  },
  {
   "cell_type": "code",
   "execution_count": 30,
   "id": "43460df8",
   "metadata": {},
   "outputs": [
    {
     "name": "stdout",
     "output_type": "stream",
     "text": [
      "Top 10 Gêneros de Games(Japão):\n",
      "\n",
      "              JP_Sales\n",
      "Genre                 \n",
      "Role-Playing    355.10\n",
      "Action          160.15\n",
      "Sports          134.67\n",
      "Platform        130.61\n",
      "Misc            107.40\n",
      "Fighting         87.39\n",
      "Simulation       62.46\n",
      "Puzzle           56.50\n",
      "Racing           56.40\n",
      "Adventure        51.82\n"
     ]
    }
   ],
   "source": [
    "print('Top 10 Gêneros de Games(Japão):\\n')\n",
    "print(df[['Genre', 'JP_Sales']].groupby('Genre').sum().sort_values(by='JP_Sales', ascending= False).head(10))"
   ]
  },
  {
   "cell_type": "code",
   "execution_count": 31,
   "id": "a5bd82a7",
   "metadata": {},
   "outputs": [
    {
     "name": "stdout",
     "output_type": "stream",
     "text": [
      "Top 10 Fabricantes(Japão):\n",
      "\n",
      "                              JP_Sales\n",
      "Publisher                             \n",
      "Nintendo                        456.88\n",
      "Namco Bandai Games              126.61\n",
      "Konami Digital Entertainment     90.94\n",
      "Sony Computer Entertainment      74.13\n",
      "Capcom                           68.40\n",
      "Sega                             57.06\n",
      "Square Enix                      49.93\n",
      "SquareSoft                       40.13\n",
      "Enix Corporation                 32.40\n",
      "Tecmo Koei                       28.97\n"
     ]
    }
   ],
   "source": [
    "print('Top 10 Fabricantes(Japão):\\n')\n",
    "print(df[['Publisher', 'JP_Sales']].groupby('Publisher').sum().sort_values(by='JP_Sales', ascending= False).head(10))"
   ]
  },
  {
   "cell_type": "code",
   "execution_count": 32,
   "id": "66e7ee75",
   "metadata": {},
   "outputs": [
    {
     "name": "stdout",
     "output_type": "stream",
     "text": [
      "Classificações mais consumidas(Japão):\n",
      "\n",
      "        JP_Sales\n",
      "Rating          \n",
      "E         195.66\n",
      "T         149.79\n",
      "M          64.23\n",
      "E10+       39.12\n",
      "AO          0.00\n",
      "EC          0.00\n",
      "RP          0.00\n"
     ]
    }
   ],
   "source": [
    "print('Classificações mais consumidas(Japão):\\n')\n",
    "print(df[['Rating', 'JP_Sales']].groupby('Rating').sum().sort_values(by='JP_Sales', ascending= False))"
   ]
  },
  {
   "cell_type": "code",
   "execution_count": 33,
   "id": "a2b5ed52",
   "metadata": {
    "scrolled": true
   },
   "outputs": [
    {
     "data": {
      "image/png": "[encoded data removed]",
      "text/plain": [
       "<Figure size 432x288 with 1 Axes>"
      ]
     },
     "metadata": {},
     "output_type": "display_data"
    }
   ],
   "source": [
    "x = df['Year_of_Release']\n",
    "y = df['JP_Sales']\n",
    "\n",
    "plt.bar(x,y,color=(0.2, 0.4, 0.6, 0.6))\n",
    "\n",
    "plt.style.use('ggplot')\n",
    "width = 0.4\n",
    "\n",
    "plt.xlabel('Ano')\n",
    "plt.ylabel('Quantidade (milhões)')\n",
    "\n",
    "\n",
    "plt.title('Quantidade de Vendas no Japão')\n",
    "\n",
    "plt.show()"
   ]
  },
  {
   "cell_type": "code",
   "execution_count": null,
   "id": "4a9e3f51",
   "metadata": {},
   "outputs": [],
   "source": []
  },
  {
   "cell_type": "markdown",
   "id": "d1b4fad3",
   "metadata": {},
   "source": [
    "### 4) Exportação do CSV para o Power BI"
   ]
  },
  {
   "cell_type": "code",
   "execution_count": 34,
   "id": "14f9fa35",
   "metadata": {},
   "outputs": [
    {
     "data": {
      "text/html": [
       "<div>\n",
       "<style scoped>\n",
       "    .dataframe tbody tr th:only-of-type {\n",
       "        vertical-align: middle;\n",
       "    }\n",
       "\n",
       "    .dataframe tbody tr th {\n",
       "        vertical-align: top;\n",
       "    }\n",
       "\n",
       "    .dataframe thead th {\n",
       "        text-align: right;\n",
       "    }\n",
       "</style>\n",
       "<table border=\"1\" class=\"dataframe\">\n",
       "  <thead>\n",
       "    <tr style=\"text-align: right;\">\n",
       "      <th></th>\n",
       "      <th>Name</th>\n",
       "      <th>Platform</th>\n",
       "      <th>Year_of_Release</th>\n",
       "      <th>Genre</th>\n",
       "      <th>Publisher</th>\n",
       "      <th>NA_Sales</th>\n",
       "      <th>EU_Sales</th>\n",
       "      <th>JP_Sales</th>\n",
       "      <th>Other_Sales</th>\n",
       "      <th>Global_Sales</th>\n",
       "      <th>Critic_Score</th>\n",
       "      <th>User_Score</th>\n",
       "      <th>Rating</th>\n",
       "    </tr>\n",
       "  </thead>\n",
       "  <tbody>\n",
       "    <tr>\n",
       "      <th>0</th>\n",
       "      <td>Wii Sports</td>\n",
       "      <td>Wii</td>\n",
       "      <td>2006</td>\n",
       "      <td>Sports</td>\n",
       "      <td>Nintendo</td>\n",
       "      <td>41.36</td>\n",
       "      <td>28.96</td>\n",
       "      <td>3.77</td>\n",
       "      <td>8.45</td>\n",
       "      <td>82.53</td>\n",
       "      <td>76.0</td>\n",
       "      <td>8.0</td>\n",
       "      <td>E</td>\n",
       "    </tr>\n",
       "    <tr>\n",
       "      <th>1</th>\n",
       "      <td>Super Mario Bros.</td>\n",
       "      <td>NES</td>\n",
       "      <td>1985</td>\n",
       "      <td>Platform</td>\n",
       "      <td>Nintendo</td>\n",
       "      <td>29.08</td>\n",
       "      <td>3.58</td>\n",
       "      <td>6.81</td>\n",
       "      <td>0.77</td>\n",
       "      <td>40.24</td>\n",
       "      <td>72.0</td>\n",
       "      <td>7.5</td>\n",
       "      <td>NaN</td>\n",
       "    </tr>\n",
       "    <tr>\n",
       "      <th>2</th>\n",
       "      <td>Mario Kart Wii</td>\n",
       "      <td>Wii</td>\n",
       "      <td>2008</td>\n",
       "      <td>Racing</td>\n",
       "      <td>Nintendo</td>\n",
       "      <td>15.68</td>\n",
       "      <td>12.76</td>\n",
       "      <td>3.79</td>\n",
       "      <td>3.29</td>\n",
       "      <td>35.52</td>\n",
       "      <td>82.0</td>\n",
       "      <td>8.3</td>\n",
       "      <td>E</td>\n",
       "    </tr>\n",
       "  </tbody>\n",
       "</table>\n",
       "</div>"
      ],
      "text/plain": [
       "                Name Platform  Year_of_Release     Genre Publisher  NA_Sales  \\\n",
       "0         Wii Sports      Wii             2006    Sports  Nintendo     41.36   \n",
       "1  Super Mario Bros.      NES             1985  Platform  Nintendo     29.08   \n",
       "2     Mario Kart Wii      Wii             2008    Racing  Nintendo     15.68   \n",
       "\n",
       "   EU_Sales  JP_Sales  Other_Sales  Global_Sales  Critic_Score  User_Score  \\\n",
       "0     28.96      3.77         8.45         82.53          76.0         8.0   \n",
       "1      3.58      6.81         0.77         40.24          72.0         7.5   \n",
       "2     12.76      3.79         3.29         35.52          82.0         8.3   \n",
       "\n",
       "  Rating  \n",
       "0      E  \n",
       "1    NaN  \n",
       "2      E  "
      ]
     },
     "execution_count": 34,
     "metadata": {},
     "output_type": "execute_result"
    }
   ],
   "source": [
    "df.head(3)"
   ]
  },
  {
   "cell_type": "code",
   "execution_count": 35,
   "id": "84c193e9",
   "metadata": {},
   "outputs": [],
   "source": [
    "dfFinal = df.drop(['Other_Sales','Global_Sales'],axis=1)"
   ]
  },
  {
   "cell_type": "code",
   "execution_count": 36,
   "id": "c1ef6763",
   "metadata": {
    "scrolled": true
   },
   "outputs": [
    {
     "data": {
      "text/html": [
       "<div>\n",
       "<style scoped>\n",
       "    .dataframe tbody tr th:only-of-type {\n",
       "        vertical-align: middle;\n",
       "    }\n",
       "\n",
       "    .dataframe tbody tr th {\n",
       "        vertical-align: top;\n",
       "    }\n",
       "\n",
       "    .dataframe thead th {\n",
       "        text-align: right;\n",
       "    }\n",
       "</style>\n",
       "<table border=\"1\" class=\"dataframe\">\n",
       "  <thead>\n",
       "    <tr style=\"text-align: right;\">\n",
       "      <th></th>\n",
       "      <th>Name</th>\n",
       "      <th>Platform</th>\n",
       "      <th>Year_of_Release</th>\n",
       "      <th>Genre</th>\n",
       "      <th>Publisher</th>\n",
       "      <th>NA_Sales</th>\n",
       "      <th>EU_Sales</th>\n",
       "      <th>JP_Sales</th>\n",
       "      <th>Critic_Score</th>\n",
       "      <th>User_Score</th>\n",
       "      <th>Rating</th>\n",
       "    </tr>\n",
       "  </thead>\n",
       "  <tbody>\n",
       "    <tr>\n",
       "      <th>0</th>\n",
       "      <td>Wii Sports</td>\n",
       "      <td>Wii</td>\n",
       "      <td>2006</td>\n",
       "      <td>Sports</td>\n",
       "      <td>Nintendo</td>\n",
       "      <td>41.36</td>\n",
       "      <td>28.96</td>\n",
       "      <td>3.77</td>\n",
       "      <td>76.0</td>\n",
       "      <td>8.0</td>\n",
       "      <td>E</td>\n",
       "    </tr>\n",
       "    <tr>\n",
       "      <th>1</th>\n",
       "      <td>Super Mario Bros.</td>\n",
       "      <td>NES</td>\n",
       "      <td>1985</td>\n",
       "      <td>Platform</td>\n",
       "      <td>Nintendo</td>\n",
       "      <td>29.08</td>\n",
       "      <td>3.58</td>\n",
       "      <td>6.81</td>\n",
       "      <td>72.0</td>\n",
       "      <td>7.5</td>\n",
       "      <td>NaN</td>\n",
       "    </tr>\n",
       "    <tr>\n",
       "      <th>2</th>\n",
       "      <td>Mario Kart Wii</td>\n",
       "      <td>Wii</td>\n",
       "      <td>2008</td>\n",
       "      <td>Racing</td>\n",
       "      <td>Nintendo</td>\n",
       "      <td>15.68</td>\n",
       "      <td>12.76</td>\n",
       "      <td>3.79</td>\n",
       "      <td>82.0</td>\n",
       "      <td>8.3</td>\n",
       "      <td>E</td>\n",
       "    </tr>\n",
       "  </tbody>\n",
       "</table>\n",
       "</div>"
      ],
      "text/plain": [
       "                Name Platform  Year_of_Release     Genre Publisher  NA_Sales  \\\n",
       "0         Wii Sports      Wii             2006    Sports  Nintendo     41.36   \n",
       "1  Super Mario Bros.      NES             1985  Platform  Nintendo     29.08   \n",
       "2     Mario Kart Wii      Wii             2008    Racing  Nintendo     15.68   \n",
       "\n",
       "   EU_Sales  JP_Sales  Critic_Score  User_Score Rating  \n",
       "0     28.96      3.77          76.0         8.0      E  \n",
       "1      3.58      6.81          72.0         7.5    NaN  \n",
       "2     12.76      3.79          82.0         8.3      E  "
      ]
     },
     "execution_count": 36,
     "metadata": {},
     "output_type": "execute_result"
    }
   ],
   "source": [
    "dfFinal.head(3)"
   ]
  },
  {
   "cell_type": "code",
   "execution_count": 37,
   "id": "deca8548",
   "metadata": {},
   "outputs": [],
   "source": [
    "dfFinal.to_csv('./data/data.csv',index=False)"
   ]
  }
 ],
 "metadata": {
  "kernelspec": {
   "display_name": "Python 3",
   "language": "python",
   "name": "python3"
  },
  "language_info": {
   "codemirror_mode": {
    "name": "ipython",
    "version": 3
   },
   "file_extension": ".py",
   "mimetype": "text/x-python",
   "name": "python",
   "nbconvert_exporter": "python",
   "pygments_lexer": "ipython3",
   "version": "3.10.4"
  }
 },
 "nbformat": 4,
 "nbformat_minor": 5
}
